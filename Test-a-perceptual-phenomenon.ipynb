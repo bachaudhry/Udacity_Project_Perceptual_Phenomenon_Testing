{
 "cells": [
  {
   "cell_type": "markdown",
   "metadata": {},
   "source": [
    "# Project : Test a Perceptual Phenomenon"
   ]
  },
  {
   "cell_type": "markdown",
   "metadata": {},
   "source": [
    "## Analyzing the Stroop Effect"
   ]
  },
  {
   "cell_type": "markdown",
   "metadata": {},
   "source": [
    "In this project we will investigate a classic phenomenon from experimental psychology known as the [Stroop Effect](https://en.wikipedia.org/wiki/Stroop_effect​). \n",
    "\n",
    "We will begin by learning a little bit about the experiment, creating a hypothesis regarding the outcome of the task, then going through the task ourselves. We will look at data collected from others who have already done this task, following which we will conduct our own statistical analysis. Finally, we will interpret our results in terms of our hypotheses."
   ]
  },
  {
   "cell_type": "markdown",
   "metadata": {},
   "source": [
    "### Q1. What is the independent variable? What is the dependent Variable?\n",
    "\n",
    "- **Independent Variabe:** The 'congruency' or 'incongruency' of words is the independent variable.\n",
    "- **Dependent Variable:**  The time it takes to view and complete the test."
   ]
  },
  {
   "cell_type": "markdown",
   "metadata": {},
   "source": [
    "### Q2.  What is an appropriate set of hypotheses for this task? Specify the null and alternative hypotheses based on what you think the researchers might be interested in. Justify your choices.\n",
    "\n"
   ]
  },
  {
   "cell_type": "markdown",
   "metadata": {},
   "source": [
    "Our Null and Alternate Hypotheses are:\n",
    "\n",
    "- **Null Hypothesis:** The time taken to complete the test is *NOT* influenced by congruency. Therefore:\n",
    "\n",
    "$$ H_0: \\mu_{incongruent} \\leq \\mu_{congruent} $$\n",
    "\n",
    "- **Alternate Hypothesis:** The time taken for incongruent words is *GREATER* than the time taken for congruent words, thus:\n",
    "\n",
    "$$ H_1: \\mu_{incongruent} \\gt \\mu_{congruent} $$\n",
    "\n",
    "_Here, $ \\mu $ is the population mean._\n",
    "\n",
    "- **Statistical Test: Paired T-Test** \n",
    "    - The paired sample t-test, sometimes called the dependent sample t-test, is a statistical procedure used to  determine whether the mean difference between two sets of observations is zero.\n",
    "    - A t-test is used because the population variance is unknown and the sample size is less than 30.\n",
    "    "
   ]
  },
  {
   "cell_type": "markdown",
   "metadata": {},
   "source": [
    "### Q3. Report some descriptive statistics regarding this dataset. Include at least one measure of central tendency and at least one measure of variability."
   ]
  },
  {
   "cell_type": "code",
   "execution_count": 1,
   "metadata": {},
   "outputs": [],
   "source": [
    "# Importing libraries\n",
    "import numpy as np\n",
    "import pandas as pd\n",
    "import math\n",
    "import matplotlib.pyplot as plt\n",
    "import seaborn as sns\n",
    "from scipy.stats import t\n",
    "%matplotlib inline\n",
    "sns.set_style('darkgrid')\n"
   ]
  },
  {
   "cell_type": "code",
   "execution_count": 2,
   "metadata": {},
   "outputs": [],
   "source": [
    "# Loading data into the DataFrame.\n",
    "df = pd.read_csv('./stroopdata.csv')"
   ]
  },
  {
   "cell_type": "code",
   "execution_count": 3,
   "metadata": {},
   "outputs": [
    {
     "data": {
      "text/html": [
       "<div>\n",
       "<style scoped>\n",
       "    .dataframe tbody tr th:only-of-type {\n",
       "        vertical-align: middle;\n",
       "    }\n",
       "\n",
       "    .dataframe tbody tr th {\n",
       "        vertical-align: top;\n",
       "    }\n",
       "\n",
       "    .dataframe thead th {\n",
       "        text-align: right;\n",
       "    }\n",
       "</style>\n",
       "<table border=\"1\" class=\"dataframe\">\n",
       "  <thead>\n",
       "    <tr style=\"text-align: right;\">\n",
       "      <th></th>\n",
       "      <th>Congruent</th>\n",
       "      <th>Incongruent</th>\n",
       "    </tr>\n",
       "  </thead>\n",
       "  <tbody>\n",
       "    <tr>\n",
       "      <th>0</th>\n",
       "      <td>12.079</td>\n",
       "      <td>19.278</td>\n",
       "    </tr>\n",
       "    <tr>\n",
       "      <th>1</th>\n",
       "      <td>16.791</td>\n",
       "      <td>18.741</td>\n",
       "    </tr>\n",
       "    <tr>\n",
       "      <th>2</th>\n",
       "      <td>9.564</td>\n",
       "      <td>21.214</td>\n",
       "    </tr>\n",
       "    <tr>\n",
       "      <th>3</th>\n",
       "      <td>8.630</td>\n",
       "      <td>15.687</td>\n",
       "    </tr>\n",
       "    <tr>\n",
       "      <th>4</th>\n",
       "      <td>14.669</td>\n",
       "      <td>22.803</td>\n",
       "    </tr>\n",
       "  </tbody>\n",
       "</table>\n",
       "</div>"
      ],
      "text/plain": [
       "   Congruent  Incongruent\n",
       "0     12.079       19.278\n",
       "1     16.791       18.741\n",
       "2      9.564       21.214\n",
       "3      8.630       15.687\n",
       "4     14.669       22.803"
      ]
     },
     "execution_count": 3,
     "metadata": {},
     "output_type": "execute_result"
    }
   ],
   "source": [
    "# Displaying 5 rows of the DataFrame.\n",
    "df.head(5)"
   ]
  },
  {
   "cell_type": "markdown",
   "metadata": {},
   "source": [
    "**Analyzing measures of central tendency and variability:**\n",
    "\n",
    "Calculating the necessary means, medians and standard deviations."
   ]
  },
  {
   "cell_type": "code",
   "execution_count": 4,
   "metadata": {},
   "outputs": [
    {
     "name": "stdout",
     "output_type": "stream",
     "text": [
      "The mean of congruent words is: 14.05\n",
      "The mean of incongruent words is: 22.02\n"
     ]
    }
   ],
   "source": [
    "# Calculating means\n",
    "mean_c = round(df['Congruent'].mean(), 2)\n",
    "mean_ic = round(df['Incongruent'].mean(), 2)\n",
    "print(\"The mean of congruent words is: {}\\n\"\n",
    "      \"The mean of incongruent words is: {}\".format(mean_c, mean_ic))"
   ]
  },
  {
   "cell_type": "code",
   "execution_count": 5,
   "metadata": {},
   "outputs": [
    {
     "name": "stdout",
     "output_type": "stream",
     "text": [
      "The median of congruent words is: 14.36\n",
      "The median of incongruent words is: 21.02\n"
     ]
    }
   ],
   "source": [
    "# Calculating medians\n",
    "med_c = round(df['Congruent'].median(), 2)\n",
    "med_ic = round(df['Incongruent'].median(), 2)\n",
    "print(\"The median of congruent words is: {}\\n\"\n",
    "      \"The median of incongruent words is: {}\".format(med_c, med_ic))"
   ]
  },
  {
   "cell_type": "code",
   "execution_count": 6,
   "metadata": {},
   "outputs": [
    {
     "name": "stdout",
     "output_type": "stream",
     "text": [
      "The standard deviation of congruent words is: 3.56\n",
      "The standard deviation of incongruent words is: 4.8\n"
     ]
    }
   ],
   "source": [
    "# Calculating standard deviations\n",
    "std_c = round(df['Congruent'].std(), 2)\n",
    "std_ic = round(df['Incongruent'].std(), 2)\n",
    "print(\"The standard deviation of congruent words is: {}\\n\"\n",
    "      \"The standard deviation of incongruent words is: {}\".format(std_c, std_ic))"
   ]
  },
  {
   "cell_type": "markdown",
   "metadata": {},
   "source": [
    "### Q4. Provide one or two visualizations that show the distribution of the sample data. Write one or two sentences noting what you observe about the plot or plots."
   ]
  },
  {
   "cell_type": "code",
   "execution_count": 7,
   "metadata": {},
   "outputs": [
    {
     "data": {
      "image/png": "[encoded data removed]",
      "text/plain": [
       "<Figure size 432x288 with 1 Axes>"
      ]
     },
     "metadata": {},
     "output_type": "display_data"
    }
   ],
   "source": [
    "plt.hist(df['Congruent'], facecolor='g', alpha=0.75)\n",
    "plt.xlabel(\"Time(seconds)\")\n",
    "plt.ylabel(\"Participants\")\n",
    "plt.title(\"Time taken - Congruent Words\");"
   ]
  },
  {
   "cell_type": "markdown",
   "metadata": {},
   "source": [
    "**Observations:** In this histogram, we can observe that 6 participants, being the largest number, took between 14 and 16 seconds to complete the test for congruent words. The sample above can be said to have a normal distribution. "
   ]
  },
  {
   "cell_type": "code",
   "execution_count": 8,
   "metadata": {},
   "outputs": [
    {
     "data": {
      "image/png": "[encoded data removed]",
      "text/plain": [
       "<Figure size 432x288 with 1 Axes>"
      ]
     },
     "metadata": {},
     "output_type": "display_data"
    }
   ],
   "source": [
    "plt.hist(df['Incongruent'], facecolor='g', alpha=0.75)\n",
    "plt.xlabel(\"Time(seconds)\")\n",
    "plt.ylabel(\"Participants\")\n",
    "plt.title(\"Time taken - Incongruent Words\");"
   ]
  },
  {
   "cell_type": "markdown",
   "metadata": {},
   "source": [
    "**Observations:** In this histogram, we can observe that 6 participants, the largest number, took approximately 20 seconds to complete the test for incongruent words. What is interesting to note is that 2 participants, as the outliers in this sample, took more than 33 seconds to complete the same test. Thus, this plot is right-skewed."
   ]
  },
  {
   "cell_type": "markdown",
   "metadata": {},
   "source": [
    "### Q5. Perform the statistical test and report your results. What is your confidence level or Type I error associated with your test? What is your conclusion regarding the hypotheses you set up? Did the results match up with your expectations?"
   ]
  },
  {
   "cell_type": "markdown",
   "metadata": {},
   "source": [
    "As mentioned in Q2, the dependent and paired T-Test will be used as our statistical test.\n",
    "\n",
    "- **Confidence Level:** For this test, we will establish a confidence level of 99%.\n",
    "- **Degrees of Freedom:** Since the sample size is 24, then the degree of freedom will be (n-1) i.e. 23.\n",
    "- **Point Estimate:** The point estimate is the difference of means for congruent and incongruent words i.e. 22.02 - 14.05 = 7.97"
   ]
  },
  {
   "cell_type": "code",
   "execution_count": 9,
   "metadata": {},
   "outputs": [
    {
     "name": "stdout",
     "output_type": "stream",
     "text": [
      "T-Critical Value: 2.4998667394943976\n"
     ]
    }
   ],
   "source": [
    "# Calculate the T-Critical value for a 99% confidence level\n",
    "print(\"T-Critical Value:\", t.ppf(.99, 23))"
   ]
  },
  {
   "cell_type": "markdown",
   "metadata": {},
   "source": [
    "In order to determine the standard deviation of differences, we will first compute the differences in values in the new column \"Difference\"."
   ]
  },
  {
   "cell_type": "code",
   "execution_count": 10,
   "metadata": {},
   "outputs": [],
   "source": [
    "df['Difference'] = df['Congruent'] - df['Incongruent']"
   ]
  },
  {
   "cell_type": "code",
   "execution_count": 11,
   "metadata": {},
   "outputs": [
    {
     "data": {
      "text/html": [
       "<div>\n",
       "<style scoped>\n",
       "    .dataframe tbody tr th:only-of-type {\n",
       "        vertical-align: middle;\n",
       "    }\n",
       "\n",
       "    .dataframe tbody tr th {\n",
       "        vertical-align: top;\n",
       "    }\n",
       "\n",
       "    .dataframe thead th {\n",
       "        text-align: right;\n",
       "    }\n",
       "</style>\n",
       "<table border=\"1\" class=\"dataframe\">\n",
       "  <thead>\n",
       "    <tr style=\"text-align: right;\">\n",
       "      <th></th>\n",
       "      <th>Congruent</th>\n",
       "      <th>Incongruent</th>\n",
       "      <th>Difference</th>\n",
       "    </tr>\n",
       "  </thead>\n",
       "  <tbody>\n",
       "    <tr>\n",
       "      <th>0</th>\n",
       "      <td>12.079</td>\n",
       "      <td>19.278</td>\n",
       "      <td>-7.199</td>\n",
       "    </tr>\n",
       "    <tr>\n",
       "      <th>1</th>\n",
       "      <td>16.791</td>\n",
       "      <td>18.741</td>\n",
       "      <td>-1.950</td>\n",
       "    </tr>\n",
       "    <tr>\n",
       "      <th>2</th>\n",
       "      <td>9.564</td>\n",
       "      <td>21.214</td>\n",
       "      <td>-11.650</td>\n",
       "    </tr>\n",
       "    <tr>\n",
       "      <th>3</th>\n",
       "      <td>8.630</td>\n",
       "      <td>15.687</td>\n",
       "      <td>-7.057</td>\n",
       "    </tr>\n",
       "    <tr>\n",
       "      <th>4</th>\n",
       "      <td>14.669</td>\n",
       "      <td>22.803</td>\n",
       "      <td>-8.134</td>\n",
       "    </tr>\n",
       "  </tbody>\n",
       "</table>\n",
       "</div>"
      ],
      "text/plain": [
       "   Congruent  Incongruent  Difference\n",
       "0     12.079       19.278      -7.199\n",
       "1     16.791       18.741      -1.950\n",
       "2      9.564       21.214     -11.650\n",
       "3      8.630       15.687      -7.057\n",
       "4     14.669       22.803      -8.134"
      ]
     },
     "execution_count": 11,
     "metadata": {},
     "output_type": "execute_result"
    }
   ],
   "source": [
    "# Verifying changes\n",
    "df.head(5)"
   ]
  },
  {
   "cell_type": "markdown",
   "metadata": {},
   "source": [
    "We will now calculate the standard deviation of differences of values in the dataset:"
   ]
  },
  {
   "cell_type": "code",
   "execution_count": 12,
   "metadata": {},
   "outputs": [
    {
     "name": "stdout",
     "output_type": "stream",
     "text": [
      "The standard deviation of differences:  4.86\n"
     ]
    }
   ],
   "source": [
    "# Standard deviation of differences\n",
    "print(\"The standard deviation of differences: \", round(df['Difference'].std(axis=0), 2))"
   ]
  },
  {
   "cell_type": "markdown",
   "metadata": {},
   "source": [
    "**Calculating T-Statistic:** Now that we have the necessary values, our T-Statistic is:"
   ]
  },
  {
   "cell_type": "code",
   "execution_count": 13,
   "metadata": {},
   "outputs": [
    {
     "name": "stdout",
     "output_type": "stream",
     "text": [
      "T-Statistic:  8.03392314814071\n"
     ]
    }
   ],
   "source": [
    "print(\"T-Statistic: \", (7.97 / (4.86 / math.sqrt(24))))"
   ]
  },
  {
   "cell_type": "markdown",
   "metadata": {},
   "source": [
    "**Results:** It can be observed that our T-Critical value is **2.4998**, which is certainly not equal to our T-Statistic **8.033**.\n",
    "\n",
    "Thus, with according to the findings above, we will **reject the null hypothesis**. The T-Test confirms the fact that incongruent tests take longer than congruent tests."
   ]
  },
  {
   "cell_type": "markdown",
   "metadata": {},
   "source": [
    "### Q6. What do you think is responsible for the effects observed? Can you think of an alternative or similar task that would result in a similar effect? "
   ]
  },
  {
   "cell_type": "markdown",
   "metadata": {},
   "source": [
    "Upon further investigation into the Stroop effect, in a paper from the University of Waterloo, Canada - Colin MacLeod refers to three major explanations which have emerged since John Ridley Stroop first published his seminal work in 1935:\n",
    "\n",
    "1. \"The first of these was Cohen, Dunbar, and McClelland’s parallel distributed processing, or connectionist, model, proposed in 1991. At its core, their theory is a strength theory, designed as it was to capture the training data reported by MacLeod and Dunbar. Processing pathways gain strength with practice, and relative strength determines likelihood and degree of interference. Thus, given our extensive experience with reading, color-word pathways ordinarily are much more strongly connected to color name responses than are color pathways.\"\n",
    "\n",
    "2. The second came in 2003 where \"Melara and Algom coming from a fundamental perception perspective, proposed that two factors underlie Stroop interference: dimensional imbalance and dimensional uncertainty. Dimensional imbalance reflects how correlated the two dimensions of a stimulus are and how surprising a stimulus is and determines the ease of recovery of a stimulus representation from memory. Dimensional uncertainty reflects how salient a stimulus is, notably how likely or unlikely it is in the context of other(recently presented) stimuli. Together, these two factors determine the success of attentional selection by focusing on salient, surprising, and/or correlated information contained within each dimension and across the two dimensions of a Stroop stimulus. Each influences excitation of targets and inhibition of distractors.Stroop interference occurs both because there is more uncertainty in the colors than in the words and because the words are more salient than the colors.\"\n",
    "\n",
    "3. The third, also in 2003, \"Roelofs proposed his model of Stroop interference, a model situated in an already implemented model of word production (WEAVER ++) from the psycholinguistic literature. This also can be viewed as a two-factor model, with processing interactions occurring in the system that carries out language production, modulated by a supervisory attentional system that maintains task control. Roelofs posited that different architectures underlie color naming and word reading, with color naming, because it is conceptually driven, requiring an extra step due to colors not being directly connected to their names, unlike words.\"\n",
    "\n",
    "It is interesting to note that the Stroop-like effects have been observed in alternate tasks which shine a new light on the cognitive functions of humans. \n",
    "\n",
    "In 1998, Baldo, Shimamura and Prinzmetal, from the University of California in Berkely, studied the response-compatibility effects in an arrow-word \"Stroop like paradigm\" i.e. subjects were asked to respond to either an arrow or a word, while ignoring the other. They observed that \"response compatibility played a significant role in generating Stroop-like interference. Robust interference effects were observed when the subjects responded manually to word stimuli (ignoring irrelevant arrows) and when they responded vocally to arrow stimuli (ignoring irrelevant words). Smaller interference effects were observed under response-compatible conditions, namely, responding manually to arrows and vocally to words. In the second experiment, within-dimension displays (e.g., arrow-arrow or word-word displays) yielded a pattern of interference that did not interact with response modality. These findings indicate that both stimulus-response compatibility effects and target-distractor similarity are crucial for understanding Stroop-like interference.\""
   ]
  },
  {
   "cell_type": "markdown",
   "metadata": {},
   "source": [
    "## Sources:\n",
    "\n",
    "[Paired Sample T-Test - Statistics Solutions](http://www.statisticssolutions.com/manova-analysis-paired-sample-t-test/)\n",
    "\n",
    "[Stroop Effect - Wikipedia](https://en.wikipedia.org/wiki/Stroop_effect)\n",
    "\n",
    "[T-Score Vs. Z-Score - Statistics How To](https://www.statisticshowto.datasciencecentral.com/probability-and-statistics/hypothesis-testing/t-score-vs-z-score/)\n",
    "\n",
    "[Standardized Test Statistic - Statistics How To](https://www.statisticshowto.datasciencecentral.com/standardized-test-statistic/)\n",
    "\n",
    "[The Stroop Effect - Colin MacLeod - University of Waterloo](http://imbs.uci.edu/~kjameson/ECST/MacLeod_TheStroopEffect.pdf)\n",
    "\n",
    "[Mapping Symbols to Response Modalities: Interference Effects on Stroop-like Tasks](https://link.springer.com/content/pdf/10.3758/BF03206864.pdf)"
   ]
  }
 ],
 "metadata": {
  "kernelspec": {
   "display_name": "Python 3",
   "language": "python",
   "name": "python3"
  },
  "language_info": {
   "codemirror_mode": {
    "name": "ipython",
    "version": 3
   },
   "file_extension": ".py",
   "mimetype": "text/x-python",
   "name": "python",
   "nbconvert_exporter": "python",
   "pygments_lexer": "ipython3",
   "version": "3.6.6"
  }
 },
 "nbformat": 4,
 "nbformat_minor": 2
}
